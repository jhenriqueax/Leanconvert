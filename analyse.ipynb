{
 "cells": [
  {
   "cell_type": "code",
   "execution_count": 162,
   "id": "d4f7e519",
   "metadata": {},
   "outputs": [],
   "source": [
    "import pandas as pd\n",
    "import numpy as np"
   ]
  },
  {
   "cell_type": "code",
   "execution_count": 163,
   "id": "22ad284d",
   "metadata": {},
   "outputs": [
    {
     "data": {
      "text/html": [
       "<div>\n",
       "<style scoped>\n",
       "    .dataframe tbody tr th:only-of-type {\n",
       "        vertical-align: middle;\n",
       "    }\n",
       "\n",
       "    .dataframe tbody tr th {\n",
       "        vertical-align: top;\n",
       "    }\n",
       "\n",
       "    .dataframe thead th {\n",
       "        text-align: right;\n",
       "    }\n",
       "</style>\n",
       "<table border=\"1\" class=\"dataframe\">\n",
       "  <thead>\n",
       "    <tr style=\"text-align: right;\">\n",
       "      <th></th>\n",
       "      <th>User ID</th>\n",
       "      <th>Variant</th>\n",
       "      <th>Action</th>\n",
       "      <th>Event Count (0 = It did NOT happen, 1 = It did happen)</th>\n",
       "    </tr>\n",
       "  </thead>\n",
       "  <tbody>\n",
       "    <tr>\n",
       "      <th>0</th>\n",
       "      <td>1000331357699</td>\n",
       "      <td>Variant A</td>\n",
       "      <td>Add to Basket</td>\n",
       "      <td>1</td>\n",
       "    </tr>\n",
       "    <tr>\n",
       "      <th>1</th>\n",
       "      <td>1000599036208</td>\n",
       "      <td>Variant A</td>\n",
       "      <td>Add to Basket</td>\n",
       "      <td>1</td>\n",
       "    </tr>\n",
       "    <tr>\n",
       "      <th>2</th>\n",
       "      <td>1000671353236</td>\n",
       "      <td>Variant A</td>\n",
       "      <td>Add to Basket</td>\n",
       "      <td>1</td>\n",
       "    </tr>\n",
       "    <tr>\n",
       "      <th>3</th>\n",
       "      <td>1000723561185</td>\n",
       "      <td>Variant B</td>\n",
       "      <td>Add to Basket</td>\n",
       "      <td>1</td>\n",
       "    </tr>\n",
       "    <tr>\n",
       "      <th>4</th>\n",
       "      <td>1000952317928</td>\n",
       "      <td>Variant B</td>\n",
       "      <td>Add to Basket</td>\n",
       "      <td>1</td>\n",
       "    </tr>\n",
       "  </tbody>\n",
       "</table>\n",
       "</div>"
      ],
      "text/plain": [
       "         User ID    Variant         Action  \\\n",
       "0  1000331357699  Variant A  Add to Basket   \n",
       "1  1000599036208  Variant A  Add to Basket   \n",
       "2  1000671353236  Variant A  Add to Basket   \n",
       "3  1000723561185  Variant B  Add to Basket   \n",
       "4  1000952317928  Variant B  Add to Basket   \n",
       "\n",
       "   Event Count (0 = It did NOT happen, 1 = It did happen)  \n",
       "0                                                  1       \n",
       "1                                                  1       \n",
       "2                                                  1       \n",
       "3                                                  1       \n",
       "4                                                  1       "
      ]
     },
     "metadata": {},
     "output_type": "display_data"
    }
   ],
   "source": [
    "path = \"/Users/jhenriqueax/Desktop/LeanConvert/raw_data.xlsx\"\n",
    "raw_data = pd.read_excel(path)\n",
    "display(raw_data.head())"
   ]
  },
  {
   "cell_type": "markdown",
   "id": "7f8d28d2",
   "metadata": {},
   "source": [
    "# Undestanding the data"
   ]
  },
  {
   "cell_type": "code",
   "execution_count": 164,
   "id": "ea881492",
   "metadata": {},
   "outputs": [
    {
     "name": "stdout",
     "output_type": "stream",
     "text": [
      "Unique actions:\n",
      "['Add to Basket' 'App Downloads' 'Checkout' 'PDP View' 'Purchase']\n"
     ]
    }
   ],
   "source": [
    "print(\"Unique actions:\")\n",
    "print(raw_data[\"Action\"].unique())"
   ]
  },
  {
   "cell_type": "code",
   "execution_count": 165,
   "id": "5881e43d",
   "metadata": {},
   "outputs": [
    {
     "name": "stdout",
     "output_type": "stream",
     "text": [
      "Number of lines: 332635\n"
     ]
    }
   ],
   "source": [
    "line_count = len(raw_data)\n",
    "print(f\"Number of lines: {line_count}\")"
   ]
  },
  {
   "cell_type": "code",
   "execution_count": 166,
   "id": "10efb2ce",
   "metadata": {},
   "outputs": [
    {
     "name": "stdout",
     "output_type": "stream",
     "text": [
      "Event Count (0 = It did NOT happen, 1 = It did happen)\n",
      "0    204763\n",
      "1    127872\n",
      "Name: count, dtype: int64\n"
     ]
    }
   ],
   "source": [
    "event_counts = raw_data[\"Event Count (0 = It did NOT happen, 1 = It did happen)\"].value_counts()\n",
    "print(event_counts)"
   ]
  },
  {
   "cell_type": "code",
   "execution_count": 167,
   "id": "2304d1ea",
   "metadata": {},
   "outputs": [
    {
     "name": "stdout",
     "output_type": "stream",
     "text": [
      "Total users: 332635\n",
      "Total unique users: 66527\n"
     ]
    }
   ],
   "source": [
    "total_users = raw_data[\"User ID\"].count()\n",
    "total_unique_users = raw_data[\"User ID\"].nunique()\n",
    "print(f\"Total users: {total_users}\")\n",
    "print(f\"Total unique users: {total_unique_users}\")"
   ]
  },
  {
   "cell_type": "markdown",
   "id": "c083ccff",
   "metadata": {},
   "source": [
    "# Processing the data"
   ]
  },
  {
   "cell_type": "code",
   "execution_count": 168,
   "id": "603e41ee",
   "metadata": {},
   "outputs": [],
   "source": [
    "# Conta o número de visitantes únicos por variante (A ou B) - base para calcular as taxas de conversão (CR).\n",
    "\n",
    "unique_visitors = raw_data.groupby(\"Variant\")[\"User ID\"].nunique()"
   ]
  },
  {
   "cell_type": "code",
   "execution_count": null,
   "id": "1aa4c2c9",
   "metadata": {},
   "outputs": [],
   "source": [
    "# Define as ações que compõem o funil de conversão.\n",
    "\n",
    "actions = [\"PDP View\", \"Add to Basket\", \"Checkout\", \"Purchase\", \"App Downloads\"]"
   ]
  },
  {
   "cell_type": "code",
   "execution_count": 170,
   "id": "a3fb7a9a",
   "metadata": {},
   "outputs": [],
   "source": [
    "# Para cada ação do funil, soma a quantidade de eventos realizados (Event Count = 1), agrupado por variante (A ou B).\n",
    "# O resultado mostra quantas pessoas realizaram cada ação por grupo (A ou B).\n",
    "\n",
    "event_counts = {}\n",
    "for action in actions:\n",
    "    action_data = raw_data[raw_data[\"Action\"] == action]\n",
    "    \n",
    "    grouped = action_data.groupby(\"Variant\")[\"Event Count (0 = It did NOT happen, 1 = It did happen)\"].sum()\n",
    "\n",
    "    event_counts[action] = grouped"
   ]
  },
  {
   "cell_type": "code",
   "execution_count": 171,
   "id": "8df46978",
   "metadata": {},
   "outputs": [],
   "source": [
    "# Cria um DataFrame consolidado com as contagens de ações e o número total de visitantes únicos por variante (base para calcular as taxas de conversão).\n",
    "\n",
    "results_df = pd.DataFrame(event_counts)\n",
    "results_df[\"Unique Visitors\"] = unique_visitors"
   ]
  },
  {
   "cell_type": "code",
   "execution_count": 172,
   "id": "4e72e030",
   "metadata": {},
   "outputs": [
    {
     "name": "stdout",
     "output_type": "stream",
     "text": [
      "           PDP View  Add to Basket  Checkout  Purchase  App Downloads  \\\n",
      "Variant                                                                 \n",
      "Variant A     29025          21987      7049      2055           1879   \n",
      "Variant B     28983          24021      9087      2072           1714   \n",
      "\n",
      "           Unique Visitors  \n",
      "Variant                     \n",
      "Variant A            33374  \n",
      "Variant B            33153  \n"
     ]
    }
   ],
   "source": [
    "print(results_df)"
   ]
  },
  {
   "cell_type": "code",
   "execution_count": 173,
   "id": "31b765a5",
   "metadata": {},
   "outputs": [],
   "source": [
    "# Para cada ação do funil, calcula a taxa de conversão (%).\n",
    "\n",
    "for action in actions:\n",
    "    column_name = f\"{action} CR (%)\"\n",
    "    \n",
    "    results_df[column_name] = (results_df[action] / results_df[\"Unique Visitors\"]) * 100"
   ]
  },
  {
   "cell_type": "code",
   "execution_count": 174,
   "id": "4d7facaf",
   "metadata": {},
   "outputs": [],
   "source": [
    "# Cria uma lista alternando entre as colunas de contagem e de taxa de conversão para cada ação\n",
    "metrics_columns = []\n",
    "\n",
    "for action in actions:\n",
    "    metrics_columns.append(action)             # valor absoluto \n",
    "    metrics_columns.append(f\"{action} CR (%)\") # taxa de conversão \n",
    "    \n",
    "\n",
    "ordered_columns = [\"Unique Visitors\"] + metrics_columns\n",
    "\n",
    "results_df = results_df[ordered_columns]\n"
   ]
  },
  {
   "cell_type": "code",
   "execution_count": 175,
   "id": "06979446",
   "metadata": {},
   "outputs": [
    {
     "name": "stdout",
     "output_type": "stream",
     "text": [
      "  Variant  Unique Visitors  PDP View  PDP View CR (%)  Add to Basket  Add to Basket CR (%)  Checkout  Checkout CR (%)  Purchase  Purchase CR (%)  App Downloads  App Downloads CR (%)\n",
      "Variant A            33374     29025            86.97          21987                 65.88      7049            21.12      2055             6.16           1879                  5.63\n",
      "Variant B            33153     28983            87.42          24021                 72.45      9087            27.41      2072             6.25           1714                  5.17\n"
     ]
    }
   ],
   "source": [
    "pd.set_option('display.float_format', '{:,.2f}'.format)\n",
    "print(results_df.reset_index().to_string(index=False))"
   ]
  },
  {
   "cell_type": "markdown",
   "id": "3fd701bf",
   "metadata": {},
   "source": []
  }
 ],
 "metadata": {
  "kernelspec": {
   "display_name": "Python 3",
   "language": "python",
   "name": "python3"
  },
  "language_info": {
   "codemirror_mode": {
    "name": "ipython",
    "version": 3
   },
   "file_extension": ".py",
   "mimetype": "text/x-python",
   "name": "python",
   "nbconvert_exporter": "python",
   "pygments_lexer": "ipython3",
   "version": "3.11.10"
  }
 },
 "nbformat": 4,
 "nbformat_minor": 5
}
